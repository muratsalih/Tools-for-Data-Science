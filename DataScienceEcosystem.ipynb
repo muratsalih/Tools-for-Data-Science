{
 "cells": [
  {
   "cell_type": "markdown",
   "id": "d7662a1a-1dd9-482a-9fc4-ffe58cbfe49f",
   "metadata": {},
   "source": [
    "#Exercise 2: Create markdown cell with title of the notebook\n",
    "\n",
    "#Create a markdown cell with the title Data Science Tools and Ecosystem using H1 style heading.\n",
    "#Take a screenshot of the markdown cell and name it as 2-title.png (Images can be saved with either the .jpg or .png extension.)"
   ]
  },
  {
   "cell_type": "markdown",
   "id": "aecf4c65-c6ae-4469-9af2-602791e2e7a8",
   "metadata": {},
   "source": [
    "# Data Science Tools and Ecosystem"
   ]
  },
  {
   "cell_type": "code",
   "execution_count": 10,
   "id": "98537051-3dde-47fc-9299-b9c68ee5af4c",
   "metadata": {},
   "outputs": [],
   "source": [
    "#Exercise 3 - Create a markdown cell for an introduction\n",
    "\n",
    "#Write an introductory sentence about the notebook such as the follows:\n",
    "\n",
    "#In this notebook, Data Science Tools and Ecosystem are summarized.\n",
    "#Take a screenshot of the markdown cell and name it as 3-intro.png (Images can be saved with either the .jpg or .png extension.)"
   ]
  },
  {
   "cell_type": "markdown",
   "id": "73a94240-f9db-4295-ac39-0c72181481f7",
   "metadata": {},
   "source": [
    "In this notebook, Data Science Tools and Ecosystem are summarized."
   ]
  },
  {
   "cell_type": "code",
   "execution_count": 61,
   "id": "04557eb1-8db3-4491-9ae6-9a78c7e5db4a",
   "metadata": {},
   "outputs": [],
   "source": [
    "#Exercise 10 - Insert a markdown cell to list Objectives\n",
    "\n",
    "#Below the introduction cell created in Exercise 3, insert a new markdown cell to list the objectives that this notebook covered (i.e. some of the key takeaways from the course). In this new cell start with an introductory line titled: Objectives: in bold font. Then using an unordered list (bullets) indicate 3 to 5 items covered in this notebook, such as List popular languages for Data Science.\n",
    "#Take a screenshot of the markdown cell and name it as 10-objectives.png (Images can be saved with either the .jpg or .png extension.)"
   ]
  },
  {
   "cell_type": "markdown",
   "id": "2e0170fa-6ba4-4a65-9874-6e79e5009ec2",
   "metadata": {},
   "source": [
    "__Objectives:__\n",
    "- Jupyter Notebook\n",
    "- Jupyter Lab\n",
    "- SQL\n",
    "- RStudio\n",
    "- GitHub"
   ]
  },
  {
   "cell_type": "code",
   "execution_count": 14,
   "id": "20de368a-26aa-4c96-8ed3-a231578008e5",
   "metadata": {},
   "outputs": [],
   "source": [
    "#Exercise 4 - Create a markdown cell to list data science languages\n",
    "\n",
    "#Start the cell with an overview line such as:\n",
    "\n",
    "#Some of the popular languages that Data Scientists use are:\n",
    "#Then create an ordered list (i.e. numbered) listing 3 (or more) commonly used languages for data science.\n",
    "#Take a screenshot of the markdown cell and name it as 4-dslanguages.png (Images can be saved with either the .jpg or .png extension.)"
   ]
  },
  {
   "cell_type": "markdown",
   "id": "7404bab0-87a7-41c9-9454-f0238819935f",
   "metadata": {},
   "source": [
    "Some of the popular languages that Data Scientists use are:\n",
    "1. Python\n",
    "2. R\n",
    "3. SQL\n",
    "4. Java\n",
    "5. Scala\n",
    "6. C++\n",
    "7. JavaScript\n",
    "8. Julia"
   ]
  },
  {
   "cell_type": "code",
   "execution_count": 19,
   "id": "3e9fa3e2-ce97-43fa-90e8-10badb678985",
   "metadata": {},
   "outputs": [],
   "source": [
    "#Exercise 5 - Create a markdown cell to list data science libraries\n",
    "\n",
    "#Add an overview line to the cell like:\n",
    "\n",
    "#Some of the commonly used libraries used by Data Scientists include:\n",
    "#Below this line add an ordered list listing 3 (or more) commonly used libraries in data science.\n",
    "#Take a screenshot of the markdown cell and name it as 5-dslibraries.png (Images can be saved with either the .jpg or .png extension.)"
   ]
  },
  {
   "cell_type": "markdown",
   "id": "1022013e-feb0-4ea2-8697-44d8f96eb3c0",
   "metadata": {},
   "source": [
    "Some of the commonly used libraries used by Data Scientists include:\n",
    "\n",
    "1. Pandas\n",
    "2. NumPy\n",
    "3. Scikit-learn\n",
    "4. Keras\n",
    "5. TensorFlow\n",
    "6. Pytorch\n",
    "7. Apache Spark\n",
    "8. ggplot2"
   ]
  },
  {
   "cell_type": "code",
   "execution_count": 23,
   "id": "886a6cdb-13c9-43ed-b58a-34a592866dea",
   "metadata": {},
   "outputs": [],
   "source": [
    "#Exercise 6 - Create a markdown cell with a table of Data Science tools\n",
    "\n",
    "#Create a single column table in this cell with the first row containing the header Data Science Tools. The subsequent three rows in the table should indicate three development environment open source tools used in data science.\n",
    "\n",
    "#Take a screenshot of the markdown cell and name it as 6-dstools.png (Images can be saved with either the .jpg or .png extension.)\n",
    "#Hint: Refer to Lab: Using Markdowns in Jupyter Notebooks to create a table."
   ]
  },
  {
   "cell_type": "markdown",
   "id": "df79307e-e072-43ce-8147-d187c042b7f7",
   "metadata": {},
   "source": [
    "|Data Science Tools|\n",
    "|-------------------|\n",
    "|Jupyter Lab|\n",
    "|RStudio|\n",
    "|Apache Spark|"
   ]
  },
  {
   "cell_type": "code",
   "execution_count": 28,
   "id": "0c195a66-e2b3-4580-967b-4a99588f18f6",
   "metadata": {},
   "outputs": [],
   "source": [
    "#Exercise 7 - Create a markdown cell introducing arithmetic expression examples\n",
    "\n",
    "#Add a line in this cell with H3 style heading with text like:\n",
    "\n",
    "#Below are a few examples of evaluating arithmetic expressions in Python.\n",
    "#Take a screenshot of the markdown cell and name it as 7-introarithmetic.png (Images can be saved with either the .jpg or .png extension.)"
   ]
  },
  {
   "cell_type": "markdown",
   "id": "4cd711b9-517b-4079-b361-8dd19e13a06a",
   "metadata": {},
   "source": [
    "### Below are a few examples of evaluating arithmetic expressions in Python."
   ]
  },
  {
   "cell_type": "code",
   "execution_count": 41,
   "id": "e79a439a-7549-4bc7-bd7c-872158f15c23",
   "metadata": {},
   "outputs": [],
   "source": [
    "#Exercise 8 - Create a code cell to multiply and add numbers\n",
    "\n",
    "#In this code cell evaluate the expression (3*4)+5.\n",
    "#Insert a comment line before the expression to explain the operation e.g.  This a simple arithmetic expression to mutiply then add integers.\n",
    "#Then execute the cell to ensure the expression returns the expected output of 17.\n",
    "#Take a screenshot of the code cell with output and name it as 8-multiplyandaddintegers.png (Images can be saved with either the .jpg or .png extension.)"
   ]
  },
  {
   "cell_type": "code",
   "execution_count": 43,
   "id": "35114908-f7a8-4716-aa74-120b9c05c2ed",
   "metadata": {},
   "outputs": [],
   "source": [
    "#This is a simple arithmetic expression to mutiply then add integers. "
   ]
  },
  {
   "cell_type": "code",
   "execution_count": 45,
   "id": "aaa50937-9724-4152-b16d-df07f91d38c6",
   "metadata": {},
   "outputs": [
    {
     "data": {
      "text/plain": [
       "17"
      ]
     },
     "execution_count": 45,
     "metadata": {},
     "output_type": "execute_result"
    }
   ],
   "source": [
    "(3*4)+5"
   ]
  },
  {
   "cell_type": "code",
   "execution_count": 48,
   "id": "d87e5eb4-8644-43e9-b218-d557e42fee5e",
   "metadata": {},
   "outputs": [],
   "source": [
    "#Exercise 9 - Create a code cell to convert minutes to hours\n",
    "\n",
    "#In this code cell write an expression that converts 200 minutes into hours.\n",
    "#Insert a comment line before the expression to explain the operation e.g.  This will convert 200 minutes to hours by diving by 60.\n",
    "#Run the cell to evaluate the expression.\n",
    "#Take a screenshot of the code cell with output and name it as 9-hourstominutes.png (Images can be saved with either the .jpg or .png extension.)"
   ]
  },
  {
   "cell_type": "code",
   "execution_count": 51,
   "id": "3045b757-697a-4f2d-981d-213a408a8e28",
   "metadata": {},
   "outputs": [],
   "source": [
    "#This will convert 200 minutes to hours by diving by 60."
   ]
  },
  {
   "cell_type": "code",
   "execution_count": 53,
   "id": "1abc39bd-012c-41c1-a7f7-d59ad8b65b03",
   "metadata": {},
   "outputs": [
    {
     "data": {
      "text/plain": [
       "3.3333333333333335"
      ]
     },
     "execution_count": 53,
     "metadata": {},
     "output_type": "execute_result"
    }
   ],
   "source": [
    "200/60"
   ]
  },
  {
   "cell_type": "markdown",
   "id": "53392bbd-0f7d-40dc-a5cd-099daff97bdc",
   "metadata": {},
   "source": [
    "## Author\n",
    "Murat Salih"
   ]
  },
  {
   "cell_type": "code",
   "execution_count": null,
   "id": "a4e85fb7-8714-4909-8e71-c21e214561f3",
   "metadata": {},
   "outputs": [],
   "source": []
  }
 ],
 "metadata": {
  "kernelspec": {
   "display_name": "anaconda-panel-2023.05-py310",
   "language": "python",
   "name": "conda-env-anaconda-panel-2023.05-py310-py"
  },
  "language_info": {
   "codemirror_mode": {
    "name": "ipython",
    "version": 3
   },
   "file_extension": ".py",
   "mimetype": "text/x-python",
   "name": "python",
   "nbconvert_exporter": "python",
   "pygments_lexer": "ipython3",
   "version": "3.11.4"
  }
 },
 "nbformat": 4,
 "nbformat_minor": 5
}
